{
 "cells": [
  {
   "attachments": {},
   "cell_type": "markdown",
   "metadata": {},
   "source": [
    "# **Scrapping Data from IDMB Website using BeautifulSoup**"
   ]
  },
  {
   "attachments": {},
   "cell_type": "markdown",
   "metadata": {},
   "source": [
    "We will be scraping the first two hundred and fifty search result for feature film ranging from five years from now."
   ]
  },
  {
   "attachments": {},
   "cell_type": "markdown",
   "metadata": {},
   "source": [
    "## Importing Packages"
   ]
  },
  {
   "cell_type": "code",
   "execution_count": 22,
   "metadata": {},
   "outputs": [],
   "source": [
    "import requests\n",
    "from bs4 import BeautifulSoup as bs\n",
    "import pandas as pd"
   ]
  },
  {
   "attachments": {},
   "cell_type": "markdown",
   "metadata": {},
   "source": [
    "## IMD Url for Search Page"
   ]
  },
  {
   "cell_type": "code",
   "execution_count": 24,
   "metadata": {},
   "outputs": [],
   "source": [
    "\n",
    "url =\"https://www.imdb.com/search/title/\"\n",
    "query_params ={\n",
    "    # we insert the search parameters for movies released past five years\n",
    "    \"release_date\" : f'{pd.Timestamp.now().year - 5}-01-01, {pd.Timestamp.now().strftime(\"%Y-%m-%d\")}',\n",
    "    \"title_type\": \"feature\",\n",
    "    \"num_votes\":\"1000,\",\n",
    "    \"count\":\"250\"\n",
    "    }"
   ]
  },
  {
   "attachments": {},
   "cell_type": "markdown",
   "metadata": {},
   "source": [
    "## Sending Website Requests to query our Parameters"
   ]
  },
  {
   "cell_type": "code",
   "execution_count": 25,
   "metadata": {},
   "outputs": [],
   "source": [
    "response = requests.get(url, params=query_params)\n",
    "html= response.content"
   ]
  },
  {
   "attachments": {},
   "cell_type": "markdown",
   "metadata": {},
   "source": [
    "## BeautifulSoup"
   ]
  },
  {
   "attachments": {},
   "cell_type": "markdown",
   "metadata": {},
   "source": [
    "### Using ```html``` content to Create Beautiful Soup Object"
   ]
  },
  {
   "cell_type": "code",
   "execution_count": 26,
   "metadata": {},
   "outputs": [],
   "source": [
    "soup = bs(html,'html.parser')\n",
    "\n",
    "#find the containers in the page\n",
    "containers = soup.find_all('div', {'class':'lister-item mode-advanced'})"
   ]
  },
  {
   "cell_type": "code",
   "execution_count": 27,
   "metadata": {},
   "outputs": [],
   "source": [
    "\n",
    "data = []\n",
    "\n",
    "# loop through each container to extract a movie data\n",
    "for movie in containers:\n",
    "    \n",
    "    #exttract the movie title\n",
    "    title =movie.h3.a.text.strip()\n",
    "    \n",
    "    #extract the release year \n",
    "    year = movie.h3.find('span',{'class':'lister-item-year'}).text.strip()\n",
    "    year = year.replace('(','').replace(')','').split()[-1]\n",
    "    \n",
    "    #extract the movie duration\n",
    "    runtime = movie.find('span',{'class':'runtime'}).text.strip()\n",
    "    \n",
    "    #extract the genre catgory of the movie\n",
    "    genre = movie.find('span', {'class': 'genre'}).text.strip()\n",
    "    \n",
    "    #extarct the movie rating\n",
    "    rating = movie.strong.text.strip()\n",
    "    \n",
    "    #extract the metascore of the movie\n",
    "    metascore = movie.find('span', {'class': 'metascore'})\n",
    "    if metascore is not None:\n",
    "        metascore = metascore.text.strip()\n",
    "    else:\n",
    "        metascore =\"\"\n",
    "    \n",
    "    #extract the total votes of the movie\n",
    "    votes = movie.find('span', {'name':'nv'})['data-value']\n",
    "    \n",
    "    #add the data to our empty list movies\n",
    "    data.append([title,year,runtime,genre,rating, metascore,votes])"
   ]
  },
  {
   "cell_type": "code",
   "execution_count": 30,
   "metadata": {},
   "outputs": [
    {
     "data": {
      "text/html": [
       "<div>\n",
       "<style scoped>\n",
       "    .dataframe tbody tr th:only-of-type {\n",
       "        vertical-align: middle;\n",
       "    }\n",
       "\n",
       "    .dataframe tbody tr th {\n",
       "        vertical-align: top;\n",
       "    }\n",
       "\n",
       "    .dataframe thead th {\n",
       "        text-align: right;\n",
       "    }\n",
       "</style>\n",
       "<table border=\"1\" class=\"dataframe\">\n",
       "  <thead>\n",
       "    <tr style=\"text-align: right;\">\n",
       "      <th></th>\n",
       "      <th>title</th>\n",
       "      <th>year</th>\n",
       "      <th>runtime</th>\n",
       "      <th>genre</th>\n",
       "      <th>rating</th>\n",
       "      <th>metascore</th>\n",
       "      <th>votes</th>\n",
       "    </tr>\n",
       "  </thead>\n",
       "  <tbody>\n",
       "    <tr>\n",
       "      <th>94</th>\n",
       "      <td>Gisaengchung</td>\n",
       "      <td>2019</td>\n",
       "      <td>132 min</td>\n",
       "      <td>Drama, Thriller</td>\n",
       "      <td>8.5</td>\n",
       "      <td>96</td>\n",
       "      <td>824682</td>\n",
       "    </tr>\n",
       "    <tr>\n",
       "      <th>139</th>\n",
       "      <td>Avengers: Infinity War</td>\n",
       "      <td>2018</td>\n",
       "      <td>149 min</td>\n",
       "      <td>Action, Adventure, Sci-Fi</td>\n",
       "      <td>8.4</td>\n",
       "      <td>68</td>\n",
       "      <td>1097740</td>\n",
       "    </tr>\n",
       "    <tr>\n",
       "      <th>194</th>\n",
       "      <td>Spider-Man: Into the Spider-Verse</td>\n",
       "      <td>2018</td>\n",
       "      <td>117 min</td>\n",
       "      <td>Animation, Action, Adventure</td>\n",
       "      <td>8.4</td>\n",
       "      <td>87</td>\n",
       "      <td>543009</td>\n",
       "    </tr>\n",
       "    <tr>\n",
       "      <th>63</th>\n",
       "      <td>Avengers: Endgame</td>\n",
       "      <td>2019</td>\n",
       "      <td>181 min</td>\n",
       "      <td>Action, Adventure, Drama</td>\n",
       "      <td>8.4</td>\n",
       "      <td>78</td>\n",
       "      <td>1150975</td>\n",
       "    </tr>\n",
       "    <tr>\n",
       "      <th>73</th>\n",
       "      <td>Joker</td>\n",
       "      <td>2019</td>\n",
       "      <td>122 min</td>\n",
       "      <td>Crime, Drama, Thriller</td>\n",
       "      <td>8.4</td>\n",
       "      <td>59</td>\n",
       "      <td>1314422</td>\n",
       "    </tr>\n",
       "  </tbody>\n",
       "</table>\n",
       "</div>"
      ],
      "text/plain": [
       "                                 title  year  runtime  \\\n",
       "94                        Gisaengchung  2019  132 min   \n",
       "139             Avengers: Infinity War  2018  149 min   \n",
       "194  Spider-Man: Into the Spider-Verse  2018  117 min   \n",
       "63                   Avengers: Endgame  2019  181 min   \n",
       "73                               Joker  2019  122 min   \n",
       "\n",
       "                            genre rating metascore    votes  \n",
       "94                Drama, Thriller    8.5        96   824682  \n",
       "139     Action, Adventure, Sci-Fi    8.4        68  1097740  \n",
       "194  Animation, Action, Adventure    8.4        87   543009  \n",
       "63       Action, Adventure, Drama    8.4        78  1150975  \n",
       "73         Crime, Drama, Thriller    8.4        59  1314422  "
      ]
     },
     "execution_count": 30,
     "metadata": {},
     "output_type": "execute_result"
    }
   ],
   "source": [
    "#Load the data to dataframe with a rating sort.\n",
    "df=pd.DataFrame(data, columns=['title','year','runtime','genre','rating', 'metascore','votes']).sort_values(\"rating\", ascending=False)\n",
    "df.head()"
   ]
  },
  {
   "cell_type": "code",
   "execution_count": 31,
   "metadata": {},
   "outputs": [
    {
     "name": "stdout",
     "output_type": "stream",
     "text": [
      "<class 'pandas.core.frame.DataFrame'>\n",
      "Int64Index: 250 entries, 94 to 118\n",
      "Data columns (total 7 columns):\n",
      " #   Column     Non-Null Count  Dtype \n",
      "---  ------     --------------  ----- \n",
      " 0   title      250 non-null    object\n",
      " 1   year       250 non-null    object\n",
      " 2   runtime    250 non-null    object\n",
      " 3   genre      250 non-null    object\n",
      " 4   rating     250 non-null    object\n",
      " 5   metascore  250 non-null    object\n",
      " 6   votes      250 non-null    object\n",
      "dtypes: object(7)\n",
      "memory usage: 15.6+ KB\n"
     ]
    }
   ],
   "source": [
    "df.info()"
   ]
  }
 ],
 "metadata": {
  "kernelspec": {
   "display_name": "Python 3",
   "language": "python",
   "name": "python3"
  },
  "language_info": {
   "codemirror_mode": {
    "name": "ipython",
    "version": 3
   },
   "file_extension": ".py",
   "mimetype": "text/x-python",
   "name": "python",
   "nbconvert_exporter": "python",
   "pygments_lexer": "ipython3",
   "version": "3.9.13"
  },
  "orig_nbformat": 4,
  "vscode": {
   "interpreter": {
    "hash": "0e2b774fbaab44ff543f02a32ce55460e0d4e68f77640d9e006920ee1173c352"
   }
  }
 },
 "nbformat": 4,
 "nbformat_minor": 2
}
